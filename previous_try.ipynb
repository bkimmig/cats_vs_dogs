{
 "cells": [
  {
   "cell_type": "code",
   "execution_count": 1,
   "metadata": {
    "collapsed": true
   },
   "outputs": [],
   "source": [
    "import matplotlib.pylab as plt\n",
    "import tensorflow as tf\n",
    "import numpy as np\n",
    "from PIL import Image\n",
    "import os\n",
    "\n",
    "%matplotlib inline\n",
    "\n",
    "plt.rcParams['figure.figsize'] = (10, 10)"
   ]
  },
  {
   "cell_type": "markdown",
   "metadata": {},
   "source": [
    "https://www.kaggle.com/c/dogs-vs-cats/data"
   ]
  },
  {
   "cell_type": "code",
   "execution_count": 2,
   "metadata": {
    "collapsed": false
   },
   "outputs": [],
   "source": [
    "train_path = 'dogcat_data/train/'\n",
    "train_image_list = np.array(os.listdir(train_path))"
   ]
  },
  {
   "cell_type": "code",
   "execution_count": 3,
   "metadata": {
    "collapsed": true
   },
   "outputs": [],
   "source": [
    "test_path = 'dogcat_data/test1/'\n",
    "test_image_list = np.array(os.listdir(test_path))"
   ]
  },
  {
   "cell_type": "code",
   "execution_count": 4,
   "metadata": {
    "collapsed": true
   },
   "outputs": [],
   "source": [
    "class Batch:\n",
    "    \"\"\"\n",
    "    TODO\n",
    "    \"\"\"\n",
    "    def __init__(self, image_list, batch_size=128):\n",
    "        self.i = 0\n",
    "        self.n = len(image_list)\n",
    "        self.image_list = image_list\n",
    "        self.batch_size = batch_size\n",
    "\n",
    "    def __iter__(self):\n",
    "        return self\n",
    "    \n",
    "    def next(self):\n",
    "        idxs = np.random.randint(0, len(self.image_list), size=self.batch_size)\n",
    "        return self.image_list[idxs] \n",
    "    \n",
    "def open_images(image_list, path='', shape=(50, 50)):\n",
    "    \"\"\"\n",
    "    TODO\n",
    "    \"\"\"\n",
    "    data = []\n",
    "    labels = []\n",
    "    for fname in image_list:\n",
    "#         img = np.asarray(Image.open(os.path.join(path, fname)))\n",
    "#         y, x, z = img.shape\n",
    "#         if y-shape[0] <= 0 or x-shape[1] <= 0:\n",
    "#             continue\n",
    "        \n",
    "        if 'cat' in fname:\n",
    "            labels.append(1)\n",
    "        else:\n",
    "            labels.append(0)\n",
    "# #         import pdb; pdb.set_trace()\n",
    "#         try:\n",
    "#             rnd_x = np.random.randint(0, x - shape[1])\n",
    "#         except:\n",
    "#             import pdb;pdb.set_trace()\n",
    "#         try:\n",
    "#             rnd_y = np.random.randint(0, y - shape[0])\n",
    "#         except:\n",
    "#             import pdb;pdb.set_trace()\n",
    "        \n",
    "#         smpl_img = img[rnd_y: rnd_y+shape[1], rnd_x: rnd_x+shape[0], :]\n",
    "        img = Image.open(os.path.join(path, fname))\n",
    "        img = img.resize((shape[0], shape[1]), Image.ANTIALIAS)\n",
    "        smpl_img = np.asarray(img)\n",
    "        data.append(smpl_img)\n",
    "    \n",
    "    labels = np.array(labels)\n",
    "    cats = labels == 1\n",
    "    dogs = labels == 0\n",
    "    labels = np.array(np.stack((cats, dogs), axis=1), dtype=int)\n",
    "#     import pdb;pdb.set_trace()\n",
    "    return np.array(data), labels\n",
    "        "
   ]
  },
  {
   "cell_type": "code",
   "execution_count": 5,
   "metadata": {
    "collapsed": false,
    "scrolled": true
   },
   "outputs": [],
   "source": [
    "## parameters\n",
    "learning_rate = 0.1\n",
    "train_iter = 5000 ## raise for more train accuracy ## 25000\n",
    "batch_size = 50\n",
    "\n",
    "## CNN parameters\n",
    "img_shape = (120, 120)\n",
    "# n_input = 50*50 ## Going to only take random 50x50 chunks of every image\n",
    "n_labels = 2 ## or 2 labels (cat, dog)\n",
    "dropout = 0.75 ## prob to keep, may change later"
   ]
  },
  {
   "cell_type": "code",
   "execution_count": 6,
   "metadata": {
    "collapsed": true
   },
   "outputs": [],
   "source": [
    "def conv2d(x, W, b, strides=1):\n",
    "    \"\"\"\n",
    "    Performs the 2d convolution, adds the bias and does the relu.\n",
    "    \n",
    "    Parameters\n",
    "    ----------\n",
    "    x: tf.placeholder\n",
    "    W: tf.variable\n",
    "    b: tf.variable\n",
    "    strides: int\n",
    "    \n",
    "    Returns\n",
    "    -------\n",
    "    x: tf.placeholder\n",
    "        convolution with layer weights and bias added\n",
    "    \"\"\"\n",
    "    x = tf.nn.conv2d(x, W, strides=[1, strides, strides, 1], padding=\"SAME\")\n",
    "    return tf.nn.relu(x + b) ## add the bias and take the relu\n",
    "\n",
    "\n",
    "def maxpool2d(x, k=2):\n",
    "    \"\"\"\n",
    "    Pool the data after it has been convolved. This will downsample the\n",
    "    image by k. If k is 2 then a 28x28 will be a 14x14 image.\n",
    "    \n",
    "    Parameters\n",
    "    ----------\n",
    "    x: tf.placeholder\n",
    "    k: int\n",
    "    \n",
    "    Returns\n",
    "    -------\n",
    "    x: tf.placeholder\n",
    "        convolution layer\n",
    "    \"\"\"\n",
    "    return tf.nn.max_pool(x, ksize=[1, k, k, 1], \n",
    "                              strides=[1, k, k, 1],\n",
    "                              padding='SAME')\n",
    "\n",
    "\n",
    "def cnn(x, W, b, dropout, img_shape=(28, 28)):\n",
    "    \"\"\"\n",
    "    The convolutional neural network. Takes your data, weights, biases\n",
    "    and dropout. All of these need to be TensorFlow variables or\n",
    "    placeholders. To avoid have a bunch of arguments, pass the weights\n",
    "    and biases for each layer in in dictionaries with keys\n",
    "    \n",
    "    0 - first layer\n",
    "    1 - second layer\n",
    "    fc - full connected layer\n",
    "    out - output layer\n",
    "    parity_out - parity output layer (odd/even label)\n",
    "    \n",
    "    This function will alter the final layer to allow us to predict the\n",
    "    oddness/evenness (parity) of the integer. I will also keep the integer\n",
    "    classification to train on, then with little training we can use\n",
    "    the upstream layers to predict the parity. We can then just later \n",
    "    optimize on the finaly 'parity_out' layer to get the classification\n",
    "    for odd or even.\n",
    "    \n",
    "    Parameters\n",
    "    ----------\n",
    "    x : tf.placeholder\n",
    "    W : dictionary of tf.variables (keys above)\n",
    "    b : dictionary of tf.variables (keys above)\n",
    "    dropout: tf.placeholder\n",
    "    img_shape: tuple\n",
    "    \n",
    "    Returns\n",
    "    -------\n",
    "    pred: tf method to get the predicitons for the digit.\n",
    "    parity_pred: tf method to get the predicitons for the parity. \n",
    "    \"\"\"\n",
    "    \n",
    "    ## reshape the data out of the matrix \n",
    "    ## so we can apply the 2d convolution to each\n",
    "#     x = tf.reshape(x, shape=[-1, img_shape[0], img_shape[1], 1])\n",
    "    \n",
    "    ## convolve and pool for the first layer, downsample by 2\n",
    "    conv1 = conv2d(x, W['0'], b['0'])\n",
    "    conv1 = maxpool2d(conv1, k=2)\n",
    "    \n",
    "    ## convolve and pool for the second layer, downsample by 2\n",
    "    conv2 = conv2d(conv1, W['1'], b['1'])\n",
    "    conv2 = maxpool2d(conv2, k=2)\n",
    "    \n",
    "    ## convolve and pool for the third layer, downsample by 2\n",
    "    conv3 = conv2d(conv2, W['2'], b['2'])\n",
    "    conv3 = maxpool2d(conv3, k=2)\n",
    "    \n",
    "    ## convolve and pool for the third layer, downsample by 2\n",
    "    conv4 = conv2d(conv3, W['3'], b['3'])\n",
    "    conv4 = maxpool2d(conv4, k=2)\n",
    "\n",
    "    ## create the fully connected layer, and reshape the \n",
    "    ## second conv layer\n",
    "    print(W['fc'].get_shape())\n",
    "    print(conv3.get_shape())\n",
    "    fc = tf.reshape(conv4, [-1, W['fc'].get_shape().as_list()[0]])\n",
    "#     fc = tf.reshape(conv3, [-1, W['fc'].get_shape()[0]])\n",
    "    fc = tf.add(tf.matmul(fc, W['fc']), b['fc'])\n",
    "    fc = tf.nn.relu(fc)\n",
    "    \n",
    "    ## apply the dropout\n",
    "    fc = tf.nn.dropout(fc, dropout)\n",
    "    \n",
    "    ## evaluate the final layer that gives the prediction for the\n",
    "    ## class\n",
    "    pred = tf.matmul(fc, W['out']) + b['out']\n",
    "    \n",
    "    return pred"
   ]
  },
  {
   "cell_type": "code",
   "execution_count": 7,
   "metadata": {
    "collapsed": true
   },
   "outputs": [],
   "source": [
    "## placeholders\n",
    "x = tf.placeholder(tf.float32, [None, img_shape[0], img_shape[1], 3])\n",
    "y = tf.placeholder(tf.float32, [None, n_labels])\n",
    "keep_prob = tf.placeholder(tf.float32) #dropout (keep probability)\n",
    "\n",
    "# ## CNN weights and biases\n",
    "# weights = {\n",
    "#     # 3x3 conv, 3 (rgb) input, 10 features output\n",
    "#     '0': tf.Variable(tf.random_normal([3, 3, 3, 10])),\n",
    "#     # 3x3 conv, 10 inputs, 20 features output\n",
    "#     '1': tf.Variable(tf.random_normal([3, 3, 10, 20])),\n",
    "#     # 3x3 conv, 10 inputs, 20 features output\n",
    "#     '2': tf.Variable(tf.random_normal([3, 3, 20, 40])),\n",
    "#     # fully connected, 6*6*40 inputs, 1024 outputs \n",
    "#     # 50x50 --> 7x7\n",
    "#     # 100x100 --> 13x13\n",
    "#     # 120x120 --> 15\n",
    "#     'fc': tf.Variable(tf.random_normal([15*15*40, 1024])),\n",
    "#     # 1024 inputs, 2 outputs (class prediction)\n",
    "#     'out': tf.Variable(tf.random_normal([1024, n_labels]))\n",
    "# }\n",
    "\n",
    "# biases = {\n",
    "#     '0': tf.Variable(tf.random_normal([10])),\n",
    "#     '1': tf.Variable(tf.random_normal([20])),\n",
    "#     '2': tf.Variable(tf.random_normal([40])), \n",
    "#     'fc': tf.Variable(tf.random_normal([1024])),\n",
    "#     'out': tf.Variable(tf.random_normal([n_labels])),\n",
    "# }\n",
    "\n",
    "\n",
    "## CNN weights and biases\n",
    "weights = {\n",
    "    # 3x3 conv, 3 (rgb) input, 10 features output\n",
    "    '0': tf.Variable(tf.random_normal([3, 3, 3, 32])),\n",
    "    # 3x3 conv, 10 inputs, 20 features output\n",
    "    '1': tf.Variable(tf.random_normal([3, 3, 32, 64])),\n",
    "    # 3x3 conv, 10 inputs, 20 features output\n",
    "    '2': tf.Variable(tf.random_normal([3, 3, 64, 128])),\n",
    "    # 3x3 conv, 10 inputs, 20 features output\n",
    "    '3': tf.Variable(tf.random_normal([3, 3, 128, 256])),\n",
    "    # fully connected, 6*6*40 inputs, 1024 outputs \n",
    "    # 50x50 --> 7x7\n",
    "    # 100x100 --> 13x13\n",
    "    # 120x120 --> 15\n",
    "    'fc': tf.Variable(tf.random_normal([8*8*256, 1024])),\n",
    "    # 1024 inputs, 2 outputs (class prediction)\n",
    "    'out': tf.Variable(tf.random_normal([1024, n_labels]))\n",
    "}\n",
    "\n",
    "biases = {\n",
    "    '0': tf.Variable(tf.random_normal([32])),\n",
    "    '1': tf.Variable(tf.random_normal([64])),\n",
    "    '2': tf.Variable(tf.random_normal([128])),\n",
    "    '3': tf.Variable(tf.random_normal([256])),\n",
    "    'fc': tf.Variable(tf.random_normal([1024])),\n",
    "    'out': tf.Variable(tf.random_normal([n_labels])),\n",
    "}"
   ]
  },
  {
   "cell_type": "code",
   "execution_count": 8,
   "metadata": {
    "collapsed": false
   },
   "outputs": [
    {
     "name": "stdout",
     "output_type": "stream",
     "text": [
      "(16384, 1024)\n",
      "(?, 15, 15, 128)\n"
     ]
    }
   ],
   "source": [
    "## Construct model\n",
    "pred = cnn(x, weights, biases, keep_prob, img_shape=img_shape)\n",
    "\n",
    "## Define loss and optimizer \n",
    "cost = tf.reduce_mean(tf.nn.softmax_cross_entropy_with_logits(pred, y))\n",
    "\n",
    "optimizer = tf.train.AdamOptimizer(learning_rate=learning_rate).minimize(cost)\n",
    "\n",
    "# Evaluate model\n",
    "correct_pred = tf.equal(tf.argmax(pred, 1), tf.argmax(y, 1))\n",
    "accuracy = tf.reduce_mean(tf.cast(correct_pred, tf.float32))\n",
    "\n",
    "## functions to get the labels out\n",
    "ypred = tf.argmax(pred, 1)"
   ]
  },
  {
   "cell_type": "code",
   "execution_count": 9,
   "metadata": {
    "collapsed": false,
    "scrolled": false
   },
   "outputs": [
    {
     "name": "stdout",
     "output_type": "stream",
     "text": [
      "Iteration : 500, Training Accuracy: 0.5199999809265137\n",
      "Iteration : 1000, Training Accuracy: 0.4000000059604645\n",
      "Iteration : 1500, Training Accuracy: 0.36000001430511475\n",
      "Iteration : 2000, Training Accuracy: 0.5400000214576721\n",
      "Iteration : 2500, Training Accuracy: 0.47999998927116394\n",
      "Iteration : 3000, Training Accuracy: 0.5\n",
      "Iteration : 3500, Training Accuracy: 0.47999998927116394\n",
      "Iteration : 4000, Training Accuracy: 0.6000000238418579\n",
      "Iteration : 4500, Training Accuracy: 0.5400000214576721\n"
     ]
    }
   ],
   "source": [
    "init = tf.global_variables_initializer()\n",
    "sess = tf.Session()\n",
    "sess.run(init)\n",
    "\n",
    "batch = Batch(train_image_list, batch_size)\n",
    "\n",
    "step = 1\n",
    "while step*batch_size < train_iter:\n",
    "    ## get a batch of data -- use built in next_batch function\n",
    "    batch_img_names = batch.next()\n",
    "    \n",
    "    bx, by = open_images(batch_img_names, path=train_path, shape=img_shape)\n",
    "#     import pdb;pdb.set_trace()\n",
    "    ## call the optimizer function. This knows about the functions up-\n",
    "    ## stream and will update variables we just need to pass in the \n",
    "    ## placeholders or in this case training data and dropout\n",
    "    ## this is where the training happens. All weights and biases are updated here.\n",
    "    sess.run(optimizer, feed_dict={x: bx, y: by, keep_prob: 1.})\n",
    "    \n",
    "    ## print the accuracy mod 10 steps\n",
    "    if step % 10 == 0:\n",
    "        acc = sess.run(accuracy, feed_dict={x: bx, y: by, keep_prob: 1.})\n",
    "        print(\"Iteration : {}, Training Accuracy: {}\".format(step*batch_size, acc))\n",
    "    \n",
    "    step += 1\n",
    "acc = sess.run(accuracy, feed_dict={x: bx, y: by, keep_prob: 1.})\n",
    "print(\"Iteration : {}, Training Accuracy: {}\".format(step*batch_size, acc))"
   ]
  },
  {
   "cell_type": "code",
   "execution_count": 10,
   "metadata": {
    "collapsed": false
   },
   "outputs": [
    {
     "data": {
      "text/plain": [
       "256"
      ]
     },
     "execution_count": 10,
     "metadata": {},
     "output_type": "execute_result"
    }
   ],
   "source": [
    "128*2"
   ]
  },
  {
   "cell_type": "code",
   "execution_count": 11,
   "metadata": {
    "collapsed": false
   },
   "outputs": [],
   "source": [
    "img = Image.open('dogcat_data/train/cat.0.jpg')\n",
    "new_width = 128\n",
    "new_height = 128\n",
    "img = img.resize((new_width, new_height), Image.ANTIALIAS)"
   ]
  },
  {
   "cell_type": "code",
   "execution_count": 12,
   "metadata": {
    "collapsed": false
   },
   "outputs": [
    {
     "data": {
      "text/plain": [
       "<matplotlib.image.AxesImage at 0x10a6b9cc0>"
      ]
     },
     "execution_count": 12,
     "metadata": {},
     "output_type": "execute_result"
    },
    {
     "data": {
      "image/png": "[encoded data removed]",
      "text/plain": [
       "<matplotlib.figure.Figure at 0x1154bd908>"
      ]
     },
     "metadata": {},
     "output_type": "display_data"
    }
   ],
   "source": [
    "plt.imshow(img)"
   ]
  },
  {
   "cell_type": "code",
   "execution_count": null,
   "metadata": {
    "collapsed": true
   },
   "outputs": [],
   "source": []
  }
 ],
 "metadata": {
  "kernelspec": {
   "display_name": "Python 3",
   "language": "python",
   "name": "python3"
  },
  "language_info": {
   "codemirror_mode": {
    "name": "ipython",
    "version": 3
   },
   "file_extension": ".py",
   "mimetype": "text/x-python",
   "name": "python",
   "nbconvert_exporter": "python",
   "pygments_lexer": "ipython3",
   "version": "3.5.2"
  }
 },
 "nbformat": 4,
 "nbformat_minor": 0
}
